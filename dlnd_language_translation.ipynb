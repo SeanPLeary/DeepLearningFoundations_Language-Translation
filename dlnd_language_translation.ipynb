{
 "cells": [
  {
   "cell_type": "markdown",
   "metadata": {
    "collapsed": true,
    "deletable": true,
    "editable": true
   },
   "source": [
    "# Language Translation\n",
    "In this project, you’re going to take a peek into the realm of neural network machine translation.  You’ll be training a sequence to sequence model on a dataset of English and French sentences that can translate new sentences from English to French.\n",
    "## Get the Data\n",
    "Since translating the whole language of English to French will take lots of time to train, we have provided you with a small portion of the English corpus."
   ]
  },
  {
   "cell_type": "code",
   "execution_count": 50,
   "metadata": {
    "collapsed": false,
    "deletable": true,
    "editable": true
   },
   "outputs": [],
   "source": [
    "\"\"\"\n",
    "DON'T MODIFY ANYTHING IN THIS CELL\n",
    "\"\"\"\n",
    "import helper\n",
    "import problem_unittests as tests\n",
    "\n",
    "source_path = 'data/small_vocab_en'\n",
    "target_path = 'data/small_vocab_fr'\n",
    "source_text = helper.load_data(source_path)\n",
    "target_text = helper.load_data(target_path)"
   ]
  },
  {
   "cell_type": "markdown",
   "metadata": {
    "deletable": true,
    "editable": true
   },
   "source": [
    "## Explore the Data\n",
    "Play around with view_sentence_range to view different parts of the data."
   ]
  },
  {
   "cell_type": "code",
   "execution_count": 51,
   "metadata": {
    "collapsed": false,
    "deletable": true,
    "editable": true
   },
   "outputs": [
    {
     "name": "stdout",
     "output_type": "stream",
     "text": [
      "Dataset Stats\n",
      "Roughly the number of unique words: 227\n",
      "Number of sentences: 137861\n",
      "Average number of words in a sentence: 13.225277634719028\n",
      "\n",
      "English sentences 0 to 10:\n",
      "new jersey is sometimes quiet during autumn , and it is snowy in april .\n",
      "the united states is usually chilly during july , and it is usually freezing in november .\n",
      "california is usually quiet during march , and it is usually hot in june .\n",
      "the united states is sometimes mild during june , and it is cold in september .\n",
      "your least liked fruit is the grape , but my least liked is the apple .\n",
      "his favorite fruit is the orange , but my favorite is the grape .\n",
      "paris is relaxing during december , but it is usually chilly in july .\n",
      "new jersey is busy during spring , and it is never hot in march .\n",
      "our least liked fruit is the lemon , but my least liked is the grape .\n",
      "the united states is sometimes busy during january , and it is sometimes warm in november .\n",
      "\n",
      "French sentences 0 to 10:\n",
      "new jersey est parfois calme pendant l' automne , et il est neigeux en avril .\n",
      "les états-unis est généralement froid en juillet , et il gèle habituellement en novembre .\n",
      "california est généralement calme en mars , et il est généralement chaud en juin .\n",
      "les états-unis est parfois légère en juin , et il fait froid en septembre .\n",
      "votre moins aimé fruit est le raisin , mais mon moins aimé est la pomme .\n",
      "son fruit préféré est l'orange , mais mon préféré est le raisin .\n",
      "paris est relaxant en décembre , mais il est généralement froid en juillet .\n",
      "new jersey est occupé au printemps , et il est jamais chaude en mars .\n",
      "notre fruit est moins aimé le citron , mais mon moins aimé est le raisin .\n",
      "les états-unis est parfois occupé en janvier , et il est parfois chaud en novembre .\n"
     ]
    }
   ],
   "source": [
    "view_sentence_range = (0, 10)\n",
    "\n",
    "\"\"\"\n",
    "DON'T MODIFY ANYTHING IN THIS CELL\n",
    "\"\"\"\n",
    "import numpy as np\n",
    "\n",
    "print('Dataset Stats')\n",
    "print('Roughly the number of unique words: {}'.format(len({word: None for word in source_text.split()})))\n",
    "\n",
    "sentences = source_text.split('\\n')\n",
    "word_counts = [len(sentence.split()) for sentence in sentences]\n",
    "print('Number of sentences: {}'.format(len(sentences)))\n",
    "print('Average number of words in a sentence: {}'.format(np.average(word_counts)))\n",
    "\n",
    "print()\n",
    "print('English sentences {} to {}:'.format(*view_sentence_range))\n",
    "print('\\n'.join(source_text.split('\\n')[view_sentence_range[0]:view_sentence_range[1]]))\n",
    "print()\n",
    "print('French sentences {} to {}:'.format(*view_sentence_range))\n",
    "print('\\n'.join(target_text.split('\\n')[view_sentence_range[0]:view_sentence_range[1]]))"
   ]
  },
  {
   "cell_type": "markdown",
   "metadata": {
    "deletable": true,
    "editable": true
   },
   "source": [
    "## Implement Preprocessing Function\n",
    "### Text to Word Ids\n",
    "As you did with other RNNs, you must turn the text into a number so the computer can understand it. In the function `text_to_ids()`, you'll turn `source_text` and `target_text` from words to ids.  However, you need to add the `<EOS>` word id at the end of each sentence from `target_text`.  This will help the neural network predict when the sentence should end.\n",
    "\n",
    "You can get the `<EOS>` word id by doing:\n",
    "```python\n",
    "target_vocab_to_int['<EOS>']\n",
    "```\n",
    "You can get other word ids using `source_vocab_to_int` and `target_vocab_to_int`."
   ]
  },
  {
   "cell_type": "code",
   "execution_count": 52,
   "metadata": {
    "collapsed": false,
    "deletable": true,
    "editable": true
   },
   "outputs": [
    {
     "name": "stdout",
     "output_type": "stream",
     "text": [
      "Tests Passed\n"
     ]
    }
   ],
   "source": [
    "def text_to_ids(source_text, target_text, source_vocab_to_int, target_vocab_to_int):\n",
    "    \"\"\"\n",
    "    Convert source and target text to proper word ids\n",
    "    :param source_text: String that contains all the source text.\n",
    "    :param target_text: String that contains all the target text.\n",
    "    :param source_vocab_to_int: Dictionary to go from the source words to an id\n",
    "    :param target_vocab_to_int: Dictionary to go from the target words to an id\n",
    "    :return: A tuple of lists (source_id_text, target_id_text)\n",
    "    \"\"\"\n",
    "    # TODO: Implement Function\n",
    "    \n",
    " \n",
    "    source_id_text = [[source_vocab_to_int[word] for word in sentence.split()] for sentence in source_text.split('\\n')]\n",
    "    # append <EOS> word id at the end of each target sentence:\n",
    "    target_id_text = [[target_vocab_to_int[word] for word in sentence.split()] + [target_vocab_to_int['<EOS>']] for sentence in target_text.split('\\n')]\n",
    "\n",
    "    #print(source_id_text)\n",
    "    #print(target_id_text)\n",
    "    \n",
    "    return (source_id_text, target_id_text)\n",
    "\n",
    "\"\"\"\n",
    "DON'T MODIFY ANYTHING IN THIS CELL THAT IS BELOW THIS LINE\n",
    "\"\"\"\n",
    "tests.test_text_to_ids(text_to_ids)"
   ]
  },
  {
   "cell_type": "markdown",
   "metadata": {
    "deletable": true,
    "editable": true
   },
   "source": [
    "### Preprocess all the data and save it\n",
    "Running the code cell below will preprocess all the data and save it to file."
   ]
  },
  {
   "cell_type": "code",
   "execution_count": 53,
   "metadata": {
    "collapsed": false,
    "deletable": true,
    "editable": true
   },
   "outputs": [],
   "source": [
    "\"\"\"\n",
    "DON'T MODIFY ANYTHING IN THIS CELL\n",
    "\"\"\"\n",
    "helper.preprocess_and_save_data(source_path, target_path, text_to_ids)"
   ]
  },
  {
   "cell_type": "markdown",
   "metadata": {
    "deletable": true,
    "editable": true
   },
   "source": [
    "# Check Point\n",
    "This is your first checkpoint. If you ever decide to come back to this notebook or have to restart the notebook, you can start from here. The preprocessed data has been saved to disk."
   ]
  },
  {
   "cell_type": "code",
   "execution_count": 54,
   "metadata": {
    "collapsed": false,
    "deletable": true,
    "editable": true
   },
   "outputs": [],
   "source": [
    "\"\"\"\n",
    "DON'T MODIFY ANYTHING IN THIS CELL\n",
    "\"\"\"\n",
    "import numpy as np\n",
    "import helper\n",
    "\n",
    "(source_int_text, target_int_text), (source_vocab_to_int, target_vocab_to_int), _ = helper.load_preprocess()"
   ]
  },
  {
   "cell_type": "markdown",
   "metadata": {
    "deletable": true,
    "editable": true
   },
   "source": [
    "### Check the Version of TensorFlow and Access to GPU\n",
    "This will check to make sure you have the correct version of TensorFlow and access to a GPU"
   ]
  },
  {
   "cell_type": "code",
   "execution_count": 55,
   "metadata": {
    "collapsed": false,
    "deletable": true,
    "editable": true
   },
   "outputs": [
    {
     "name": "stdout",
     "output_type": "stream",
     "text": [
      "TensorFlow Version: 1.0.0\n",
      "Default GPU Device: /gpu:0\n"
     ]
    }
   ],
   "source": [
    "\"\"\"\n",
    "DON'T MODIFY ANYTHING IN THIS CELL\n",
    "\"\"\"\n",
    "from distutils.version import LooseVersion\n",
    "import warnings\n",
    "import tensorflow as tf\n",
    "\n",
    "# Check TensorFlow Version\n",
    "assert LooseVersion(tf.__version__) >= LooseVersion('1.0'), 'Please use TensorFlow version 1.0 or newer'\n",
    "print('TensorFlow Version: {}'.format(tf.__version__))\n",
    "\n",
    "# Check for a GPU\n",
    "if not tf.test.gpu_device_name():\n",
    "    warnings.warn('No GPU found. Please use a GPU to train your neural network.')\n",
    "else:\n",
    "    print('Default GPU Device: {}'.format(tf.test.gpu_device_name()))"
   ]
  },
  {
   "cell_type": "markdown",
   "metadata": {
    "deletable": true,
    "editable": true
   },
   "source": [
    "## Build the Neural Network\n",
    "You'll build the components necessary to build a Sequence-to-Sequence model by implementing the following functions below:\n",
    "- `model_inputs`\n",
    "- `process_decoding_input`\n",
    "- `encoding_layer`\n",
    "- `decoding_layer_train`\n",
    "- `decoding_layer_infer`\n",
    "- `decoding_layer`\n",
    "- `seq2seq_model`\n",
    "\n",
    "### Input\n",
    "Implement the `model_inputs()` function to create TF Placeholders for the Neural Network. It should create the following placeholders:\n",
    "\n",
    "- Input text placeholder named \"input\" using the TF Placeholder name parameter with rank 2.\n",
    "- Targets placeholder with rank 2.\n",
    "- Learning rate placeholder with rank 0.\n",
    "- Keep probability placeholder named \"keep_prob\" using the TF Placeholder name parameter with rank 0.\n",
    "\n",
    "Return the placeholders in the following the tuple (Input, Targets, Learing Rate, Keep Probability)"
   ]
  },
  {
   "cell_type": "code",
   "execution_count": 56,
   "metadata": {
    "collapsed": false,
    "deletable": true,
    "editable": true
   },
   "outputs": [
    {
     "name": "stdout",
     "output_type": "stream",
     "text": [
      "Tests Passed\n"
     ]
    }
   ],
   "source": [
    "def model_inputs():\n",
    "    \"\"\"\n",
    "    Create TF Placeholders for input, targets, and learning rate.\n",
    "    :return: Tuple (input, targets, learning rate, keep probability)\n",
    "    \"\"\"\n",
    "    # TODO: Implement Function\n",
    "   \n",
    "    # create placeholders\n",
    "    input = tf.placeholder(tf.int32, [None, None] , name ='input')\n",
    "    targets = tf.placeholder(tf.int32, [None, None], name ='targets')\n",
    "    learning_rate = tf.placeholder(tf.float32, None, name ='learning_rate')\n",
    "    keep_probability = tf.placeholder(tf.float32, None, name ='keep_prob')\n",
    "    \n",
    "    return (input, targets, learning_rate, keep_probability)\n",
    "\n",
    "\n",
    "\"\"\"\n",
    "DON'T MODIFY ANYTHING IN THIS CELL THAT IS BELOW THIS LINE\n",
    "\"\"\"\n",
    "tests.test_model_inputs(model_inputs)"
   ]
  },
  {
   "cell_type": "markdown",
   "metadata": {
    "deletable": true,
    "editable": true
   },
   "source": [
    "### Process Decoding Input\n",
    "Implement `process_decoding_input` using TensorFlow to remove the last word id from each batch in `target_data` and concat the GO ID to the begining of each batch."
   ]
  },
  {
   "cell_type": "code",
   "execution_count": 57,
   "metadata": {
    "collapsed": false,
    "deletable": true,
    "editable": true
   },
   "outputs": [
    {
     "name": "stdout",
     "output_type": "stream",
     "text": [
      "Tests Passed\n"
     ]
    }
   ],
   "source": [
    "def process_decoding_input(target_data, target_vocab_to_int, batch_size):\n",
    "    \"\"\"\n",
    "    Preprocess target data for dencoding\n",
    "    :param target_data: Target Placehoder\n",
    "    :param target_vocab_to_int: Dictionary to go from the target words to an id\n",
    "    :param batch_size: Batch Size\n",
    "    :return: Preprocessed target data\n",
    "    \"\"\"\n",
    "    # TODO: Implement Function\n",
    "    \n",
    "    #reference: https://github.com/udacity/deep-learning/blob/master/seq2seq/sequence_to_sequence_implementation.ipynb\n",
    "    # remove last word id\n",
    "    ending = tf.strided_slice(target_data, [0, 0], [batch_size, -1], [1, 1])\n",
    "    # add <GO> start id to the front of the decoder input.\n",
    "    dec_input = tf.concat([tf.fill([batch_size, 1], target_vocab_to_int['<GO>']), ending], 1)\n",
    "    \n",
    "    return dec_input\n",
    "\n",
    "\"\"\"\n",
    "DON'T MODIFY ANYTHING IN THIS CELL THAT IS BELOW THIS LINE\n",
    "\"\"\"\n",
    "tests.test_process_decoding_input(process_decoding_input)"
   ]
  },
  {
   "cell_type": "markdown",
   "metadata": {
    "deletable": true,
    "editable": true
   },
   "source": [
    "### Encoding\n",
    "Implement `encoding_layer()` to create a Encoder RNN layer using [`tf.nn.dynamic_rnn()`](https://www.tensorflow.org/api_docs/python/tf/nn/dynamic_rnn)."
   ]
  },
  {
   "cell_type": "code",
   "execution_count": 58,
   "metadata": {
    "collapsed": false,
    "deletable": true,
    "editable": true
   },
   "outputs": [
    {
     "name": "stdout",
     "output_type": "stream",
     "text": [
      "Tests Passed\n"
     ]
    }
   ],
   "source": [
    "def encoding_layer(rnn_inputs, rnn_size, num_layers, keep_prob):\n",
    "    \"\"\"\n",
    "    Create encoding layer\n",
    "    :param rnn_inputs: Inputs for the RNN\n",
    "    :param rnn_size: RNN Size\n",
    "    :param num_layers: Number of layers\n",
    "    :param keep_prob: Dropout keep probability\n",
    "    :return: RNN state\n",
    "    \"\"\"\n",
    "    # TODO: Implement Function\n",
    "\n",
    "    # create a basic LSTM cell \n",
    "    lstm_cell = tf.contrib.rnn.BasicLSTMCell(rnn_size)\n",
    "    \n",
    "    # apply dropout to cell\n",
    "    drop = tf.contrib.rnn.DropoutWrapper(lstm_cell, keep_prob)\n",
    "    \n",
    "    # stack-up multiple LSTM layers\n",
    "    rnn_cell = tf.contrib.rnn.MultiRNNCell([drop] * num_layers)\n",
    " \n",
    "    # Encoder state\n",
    "    (_, rnn_state) = tf.nn.dynamic_rnn(rnn_cell, rnn_inputs, dtype=tf.float32)\n",
    "    \n",
    "    \n",
    "    return rnn_state\n",
    "\n",
    "\"\"\"\n",
    "DON'T MODIFY ANYTHING IN THIS CELL THAT IS BELOW THIS LINE\n",
    "\"\"\"\n",
    "tests.test_encoding_layer(encoding_layer)"
   ]
  },
  {
   "cell_type": "markdown",
   "metadata": {
    "deletable": true,
    "editable": true
   },
   "source": [
    "### Decoding - Training\n",
    "Create training logits using [`tf.contrib.seq2seq.simple_decoder_fn_train()`](https://www.tensorflow.org/api_docs/python/tf/contrib/seq2seq/simple_decoder_fn_train) and [`tf.contrib.seq2seq.dynamic_rnn_decoder()`](https://www.tensorflow.org/api_docs/python/tf/contrib/seq2seq/dynamic_rnn_decoder).  Apply the `output_fn` to the [`tf.contrib.seq2seq.dynamic_rnn_decoder()`](https://www.tensorflow.org/api_docs/python/tf/contrib/seq2seq/dynamic_rnn_decoder) outputs."
   ]
  },
  {
   "cell_type": "code",
   "execution_count": 59,
   "metadata": {
    "collapsed": false,
    "deletable": true,
    "editable": true
   },
   "outputs": [
    {
     "name": "stdout",
     "output_type": "stream",
     "text": [
      "Tests Passed\n"
     ]
    }
   ],
   "source": [
    "def decoding_layer_train(encoder_state, dec_cell, dec_embed_input, sequence_length, decoding_scope,\n",
    "                         output_fn, keep_prob):\n",
    "    \"\"\"\n",
    "    Create a decoding layer for training\n",
    "    :param encoder_state: Encoder State\n",
    "    :param dec_cell: Decoder RNN Cell\n",
    "    :param dec_embed_input: Decoder embedded input\n",
    "    :param sequence_length: Sequence Length\n",
    "    :param decoding_scope: TenorFlow Variable Scope for decoding\n",
    "    :param output_fn: Function to apply the output layer\n",
    "    :param keep_prob: Dropout keep probability\n",
    "    :return: Train Logits\n",
    "    \"\"\"\n",
    "    # TODO: Implement Function\n",
    "    \n",
    "    # Build training Decoder\n",
    "    train_decoder_fn = tf.contrib.seq2seq.simple_decoder_fn_train(encoder_state)\n",
    "    (train_pred, _, _) = tf.contrib.seq2seq.dynamic_rnn_decoder(\n",
    "        dec_cell, train_decoder_fn, dec_embed_input, sequence_length, scope=decoding_scope)\n",
    "    \n",
    "    # Apply the output layer to the output of the training decoder with dropout\n",
    "    train_logits = tf.contrib.layers.dropout(output_fn(train_pred), keep_prob)\n",
    "    \n",
    "    \n",
    "    return train_logits\n",
    "\n",
    "\n",
    "\"\"\"\n",
    "DON'T MODIFY ANYTHING IN THIS CELL THAT IS BELOW THIS LINE\n",
    "\"\"\"\n",
    "tests.test_decoding_layer_train(decoding_layer_train)"
   ]
  },
  {
   "cell_type": "markdown",
   "metadata": {
    "deletable": true,
    "editable": true
   },
   "source": [
    "### Decoding - Inference\n",
    "Create inference logits using [`tf.contrib.seq2seq.simple_decoder_fn_inference()`](https://www.tensorflow.org/api_docs/python/tf/contrib/seq2seq/simple_decoder_fn_inference) and [`tf.contrib.seq2seq.dynamic_rnn_decoder()`](https://www.tensorflow.org/api_docs/python/tf/contrib/seq2seq/dynamic_rnn_decoder). "
   ]
  },
  {
   "cell_type": "code",
   "execution_count": 60,
   "metadata": {
    "collapsed": false,
    "deletable": true,
    "editable": true
   },
   "outputs": [
    {
     "name": "stdout",
     "output_type": "stream",
     "text": [
      "Tests Passed\n"
     ]
    }
   ],
   "source": [
    "def decoding_layer_infer(encoder_state, dec_cell, dec_embeddings, start_of_sequence_id, end_of_sequence_id,\n",
    "                         maximum_length, vocab_size, decoding_scope, output_fn, keep_prob):\n",
    "    \"\"\"\n",
    "    Create a decoding layer for inference\n",
    "    :param encoder_state: Encoder state\n",
    "    :param dec_cell: Decoder RNN Cell\n",
    "    :param dec_embeddings: Decoder embeddings\n",
    "    :param start_of_sequence_id: GO ID\n",
    "    :param end_of_sequence_id: EOS Id\n",
    "    :param maximum_length: Maximum length of \n",
    "    :param vocab_size: Size of vocabulary\n",
    "    :param decoding_scope: TensorFlow Variable Scope for decoding\n",
    "    :param output_fn: Function to apply the output layer\n",
    "    :param keep_prob: Dropout keep probability\n",
    "    :return: Inference Logits\n",
    "    \"\"\"\n",
    "    # TODO: Implement Function\n",
    "    \n",
    "    # Build the inference decoder\n",
    "    infer_decoder_fn = tf.contrib.seq2seq.simple_decoder_fn_inference(\n",
    "        output_fn, encoder_state, dec_embeddings, start_of_sequence_id,\n",
    "        end_of_sequence_id, maximum_length-1, vocab_size)\n",
    "    \n",
    "    # Output layer\n",
    "    (inference_logits, _, _) = tf.contrib.seq2seq.dynamic_rnn_decoder(dec_cell, infer_decoder_fn, scope=decoding_scope)\n",
    "    # Apply dropout\n",
    "    inference_logits = tf.contrib.layers.dropout(inference_logits, keep_prob)\n",
    "    \n",
    "    return inference_logits\n",
    "\n",
    "\n",
    "\"\"\"\n",
    "DON'T MODIFY ANYTHING IN THIS CELL THAT IS BELOW THIS LINE\n",
    "\"\"\"\n",
    "tests.test_decoding_layer_infer(decoding_layer_infer)"
   ]
  },
  {
   "cell_type": "markdown",
   "metadata": {
    "deletable": true,
    "editable": true
   },
   "source": [
    "### Build the Decoding Layer\n",
    "Implement `decoding_layer()` to create a Decoder RNN layer.\n",
    "\n",
    "- Create RNN cell for decoding using `rnn_size` and `num_layers`.\n",
    "- Create the output fuction using [`lambda`](https://docs.python.org/3/tutorial/controlflow.html#lambda-expressions) to transform it's input, logits, to class logits.\n",
    "- Use the your `decoding_layer_train(encoder_state, dec_cell, dec_embed_input, sequence_length, decoding_scope, output_fn, keep_prob)` function to get the training logits.\n",
    "- Use your `decoding_layer_infer(encoder_state, dec_cell, dec_embeddings, start_of_sequence_id, end_of_sequence_id, maximum_length, vocab_size, decoding_scope, output_fn, keep_prob)` function to get the inference logits.\n",
    "\n",
    "Note: You'll need to use [tf.variable_scope](https://www.tensorflow.org/api_docs/python/tf/variable_scope) to share variables between training and inference."
   ]
  },
  {
   "cell_type": "code",
   "execution_count": 61,
   "metadata": {
    "collapsed": false,
    "deletable": true,
    "editable": true
   },
   "outputs": [
    {
     "name": "stdout",
     "output_type": "stream",
     "text": [
      "Tests Passed\n"
     ]
    }
   ],
   "source": [
    "def decoding_layer(dec_embed_input, dec_embeddings, encoder_state, vocab_size, sequence_length, rnn_size,\n",
    "                   num_layers, target_vocab_to_int, keep_prob):\n",
    "    \"\"\"\n",
    "    Create decoding layer\n",
    "    :param dec_embed_input: Decoder embedded input\n",
    "    :param dec_embeddings: Decoder embeddings\n",
    "    :param encoder_state: The encoded state\n",
    "    :param vocab_size: Size of vocabulary\n",
    "    :param sequence_length: Sequence Length\n",
    "    :param rnn_size: RNN Size\n",
    "    :param num_layers: Number of layers\n",
    "    :param target_vocab_to_int: Dictionary to go from the target words to an id\n",
    "    :param keep_prob: Dropout keep probability\n",
    "    :return: Tuple of (Training Logits, Inference Logits)\n",
    "    \"\"\"\n",
    "    # TODO: Implement Function\n",
    "\n",
    "    # create a basic LSTM cell \n",
    "    lstm_cell = tf.contrib.rnn.BasicLSTMCell(rnn_size)\n",
    "    \n",
    "    # apply dropout to cell\n",
    "    drop = tf.contrib.rnn.DropoutWrapper(lstm_cell, keep_prob)\n",
    "    \n",
    "    # stack-up multiple LSTM layers\n",
    "    rnn_cell = tf.contrib.rnn.MultiRNNCell([drop] * num_layers)\n",
    "    \n",
    "    \n",
    "    start_of_sequence_id = target_vocab_to_int['<GO>']\n",
    "    end_of_sequence_id = target_vocab_to_int['<EOS>']\n",
    "       \n",
    "        \n",
    "    # Build the output layer in the decoding scope, \n",
    "    # so the weight and bias can be shared between the training and inference decoders\n",
    "    with tf.variable_scope('decoding') as decoding_scope:\n",
    "        output_fn = lambda x: tf.contrib.layers.fully_connected(x, vocab_size, None, scope=decoding_scope)\n",
    "        train_logits = decoding_layer_train(encoder_state,\n",
    "                                            rnn_cell, \n",
    "                                            dec_embed_input, \n",
    "                                            sequence_length,\n",
    "                                            decoding_scope, \n",
    "                                            output_fn,\n",
    "                                            keep_prob)\n",
    "        \n",
    "    #Reuse the weights the biases from the training decoder\n",
    "    with tf.variable_scope('decoding', reuse=True) as decoding_scope:\n",
    "        inference_logits = decoding_layer_infer(encoder_state, \n",
    "                                                rnn_cell, \n",
    "                                                dec_embeddings, \n",
    "                                                start_of_sequence_id, \n",
    "                                                end_of_sequence_id, \n",
    "                                                sequence_length, \n",
    "                                                vocab_size, \n",
    "                                                decoding_scope, \n",
    "                                                output_fn, \n",
    "                                                keep_prob)\n",
    "    \n",
    "    return train_logits, inference_logits\n",
    "\n",
    "\n",
    "\"\"\"\n",
    "DON'T MODIFY ANYTHING IN THIS CELL THAT IS BELOW THIS LINE\n",
    "\"\"\"\n",
    "tests.test_decoding_layer(decoding_layer)"
   ]
  },
  {
   "cell_type": "markdown",
   "metadata": {
    "deletable": true,
    "editable": true
   },
   "source": [
    "### Build the Neural Network\n",
    "Apply the functions you implemented above to:\n",
    "\n",
    "- Apply embedding to the input data for the encoder.\n",
    "- Encode the input using your `encoding_layer(rnn_inputs, rnn_size, num_layers, keep_prob)`.\n",
    "- Process target data using your `process_decoding_input(target_data, target_vocab_to_int, batch_size)` function.\n",
    "- Apply embedding to the target data for the decoder.\n",
    "- Decode the encoded input using your `decoding_layer(dec_embed_input, dec_embeddings, encoder_state, vocab_size, sequence_length, rnn_size, num_layers, target_vocab_to_int, keep_prob)`."
   ]
  },
  {
   "cell_type": "code",
   "execution_count": 62,
   "metadata": {
    "collapsed": false,
    "deletable": true,
    "editable": true
   },
   "outputs": [
    {
     "name": "stdout",
     "output_type": "stream",
     "text": [
      "Tests Passed\n"
     ]
    }
   ],
   "source": [
    "def seq2seq_model(input_data, target_data, keep_prob, batch_size, sequence_length, source_vocab_size, target_vocab_size,\n",
    "                  enc_embedding_size, dec_embedding_size, rnn_size, num_layers, target_vocab_to_int):\n",
    "    \"\"\"\n",
    "    Build the Sequence-to-Sequence part of the neural network\n",
    "    :param input_data: Input placeholder\n",
    "    :param target_data: Target placeholder\n",
    "    :param keep_prob: Dropout keep probability placeholder\n",
    "    :param batch_size: Batch Size\n",
    "    :param sequence_length: Sequence Length\n",
    "    :param source_vocab_size: Source vocabulary size\n",
    "    :param target_vocab_size: Target vocabulary size\n",
    "    :param enc_embedding_size: Decoder embedding size\n",
    "    :param dec_embedding_size: Encoder embedding size\n",
    "    :param rnn_size: RNN Size\n",
    "    :param num_layers: Number of layers\n",
    "    :param target_vocab_to_int: Dictionary to go from the target words to an id\n",
    "    :return: Tuple of (Training Logits, Inference Logits)\n",
    "    \"\"\"\n",
    "    # TODO: Implement Function\n",
    "\n",
    "    \n",
    "    # Decoder Embedding\n",
    "    #dec_embeddings = tf.Variable(tf.random_uniform([target_vocab_size, dec_embedding_size]))\n",
    "    #dec_embeddings = tf.Variable(tf.random_normal([target_vocab_size, dec_embedding_size],0,0.1))\n",
    "    dec_embeddings = tf.Variable(tf.truncated_normal([target_vocab_size, dec_embedding_size],mean=0.0, stddev=4.0))\n",
    "    dec_input = process_decoding_input(target_data, target_vocab_to_int, batch_size)\n",
    "    dec_embed_input = tf.nn.embedding_lookup(dec_embeddings, dec_input)\n",
    "    \n",
    "    embedded_input = tf.contrib.layers.embed_sequence(input_data, source_vocab_size, enc_embedding_size)\n",
    "    encoder_state = encoding_layer(embedded_input, rnn_size, num_layers, keep_prob)\n",
    "   \n",
    "    train_logits, inference_logits = decoding_layer(dec_embed_input, dec_embeddings, encoder_state, \n",
    "                                                    target_vocab_size, \n",
    "                                                    sequence_length, \n",
    "                                                    rnn_size, \n",
    "                                                    num_layers, \n",
    "                                                    target_vocab_to_int, \n",
    "                                                    keep_prob)\n",
    "    \n",
    "    return (train_logits, inference_logits)\n",
    "\n",
    "\n",
    "\"\"\"\n",
    "DON'T MODIFY ANYTHING IN THIS CELL THAT IS BELOW THIS LINE\n",
    "\"\"\"\n",
    "tests.test_seq2seq_model(seq2seq_model)"
   ]
  },
  {
   "cell_type": "markdown",
   "metadata": {
    "deletable": true,
    "editable": true
   },
   "source": [
    "## Neural Network Training\n",
    "### Hyperparameters\n",
    "Tune the following parameters:\n",
    "\n",
    "- Set `epochs` to the number of epochs.\n",
    "- Set `batch_size` to the batch size.\n",
    "- Set `rnn_size` to the size of the RNNs.\n",
    "- Set `num_layers` to the number of layers.\n",
    "- Set `encoding_embedding_size` to the size of the embedding for the encoder.\n",
    "- Set `decoding_embedding_size` to the size of the embedding for the decoder.\n",
    "- Set `learning_rate` to the learning rate.\n",
    "- Set `keep_probability` to the Dropout keep probability"
   ]
  },
  {
   "cell_type": "code",
   "execution_count": 63,
   "metadata": {
    "collapsed": true,
    "deletable": true,
    "editable": true
   },
   "outputs": [],
   "source": [
    "# Number of Epochs\n",
    "epochs = 10\n",
    "# Batch Size\n",
    "batch_size = 4096\n",
    "# RNN Size\n",
    "rnn_size = 512\n",
    "# Number of Layers\n",
    "num_layers = 1\n",
    "# Embedding Size\n",
    "encoding_embedding_size = 128\n",
    "decoding_embedding_size = 128\n",
    "# Learning Rate\n",
    "learning_rate = 0.005\n",
    "# Dropout Keep Probability\n",
    "keep_probability = 0.7"
   ]
  },
  {
   "cell_type": "markdown",
   "metadata": {
    "deletable": true,
    "editable": true
   },
   "source": [
    "### Build the Graph\n",
    "Build the graph using the neural network you implemented."
   ]
  },
  {
   "cell_type": "code",
   "execution_count": 64,
   "metadata": {
    "collapsed": false,
    "deletable": true,
    "editable": true
   },
   "outputs": [],
   "source": [
    "\"\"\"\n",
    "DON'T MODIFY ANYTHING IN THIS CELL\n",
    "\"\"\"\n",
    "save_path = 'checkpoints/dev'\n",
    "(source_int_text, target_int_text), (source_vocab_to_int, target_vocab_to_int), _ = helper.load_preprocess()\n",
    "max_target_sentence_length = max([len(sentence) for sentence in source_int_text])\n",
    "\n",
    "train_graph = tf.Graph()\n",
    "with train_graph.as_default():\n",
    "    input_data, targets, lr, keep_prob = model_inputs()\n",
    "    sequence_length = tf.placeholder_with_default(max_target_sentence_length, None, name='sequence_length')\n",
    "    input_shape = tf.shape(input_data)\n",
    "    \n",
    "    train_logits, inference_logits = seq2seq_model(\n",
    "        tf.reverse(input_data, [-1]), targets, keep_prob, batch_size, sequence_length, len(source_vocab_to_int), len(target_vocab_to_int),\n",
    "        encoding_embedding_size, decoding_embedding_size, rnn_size, num_layers, target_vocab_to_int)\n",
    "\n",
    "    tf.identity(inference_logits, 'logits')\n",
    "    with tf.name_scope(\"optimization\"):\n",
    "        # Loss function\n",
    "        cost = tf.contrib.seq2seq.sequence_loss(\n",
    "            train_logits,\n",
    "            targets,\n",
    "            tf.ones([input_shape[0], sequence_length]))\n",
    "\n",
    "        # Optimizer\n",
    "        optimizer = tf.train.AdamOptimizer(lr)\n",
    "\n",
    "        # Gradient Clipping\n",
    "        gradients = optimizer.compute_gradients(cost)\n",
    "        capped_gradients = [(tf.clip_by_value(grad, -1., 1.), var) for grad, var in gradients if grad is not None]\n",
    "        train_op = optimizer.apply_gradients(capped_gradients)"
   ]
  },
  {
   "cell_type": "markdown",
   "metadata": {
    "deletable": true,
    "editable": true
   },
   "source": [
    "### Train\n",
    "Train the neural network on the preprocessed data. If you have a hard time getting a good loss, check the forms to see if anyone is having the same problem."
   ]
  },
  {
   "cell_type": "code",
   "execution_count": 65,
   "metadata": {
    "collapsed": false,
    "deletable": true,
    "editable": true,
    "scrolled": true
   },
   "outputs": [
    {
     "name": "stdout",
     "output_type": "stream",
     "text": [
      "Epoch   0 Batch    0/33 - Train Accuracy:  0.345, Validation Accuracy:  0.344, Loss:  5.943\n",
      "Epoch   0 Batch    1/33 - Train Accuracy:  0.337, Validation Accuracy:  0.338, Loss:  4.131\n",
      "Epoch   0 Batch    2/33 - Train Accuracy:  0.320, Validation Accuracy:  0.319, Loss:  3.449\n",
      "Epoch   0 Batch    3/33 - Train Accuracy:  0.225, Validation Accuracy:  0.260, Loss:  3.223\n",
      "Epoch   0 Batch    4/33 - Train Accuracy:  0.329, Validation Accuracy:  0.328, Loss:  2.930\n",
      "Epoch   0 Batch    5/33 - Train Accuracy:  0.269, Validation Accuracy:  0.269, Loss:  2.767\n",
      "Epoch   0 Batch    6/33 - Train Accuracy:  0.391, Validation Accuracy:  0.389, Loss:  2.660\n",
      "Epoch   0 Batch    7/33 - Train Accuracy:  0.384, Validation Accuracy:  0.384, Loss:  2.561\n",
      "Epoch   0 Batch    8/33 - Train Accuracy:  0.443, Validation Accuracy:  0.439, Loss:  2.503\n",
      "Epoch   0 Batch    9/33 - Train Accuracy:  0.425, Validation Accuracy:  0.447, Loss:  2.476\n",
      "Epoch   0 Batch   10/33 - Train Accuracy:  0.431, Validation Accuracy:  0.436, Loss:  2.399\n",
      "Epoch   0 Batch   11/33 - Train Accuracy:  0.432, Validation Accuracy:  0.457, Loss:  2.407\n",
      "Epoch   0 Batch   12/33 - Train Accuracy:  0.426, Validation Accuracy:  0.456, Loss:  2.360\n",
      "Epoch   0 Batch   13/33 - Train Accuracy:  0.457, Validation Accuracy:  0.454, Loss:  2.289\n",
      "Epoch   0 Batch   14/33 - Train Accuracy:  0.396, Validation Accuracy:  0.421, Loss:  2.273\n",
      "Epoch   0 Batch   15/33 - Train Accuracy:  0.376, Validation Accuracy:  0.400, Loss:  2.260\n",
      "Epoch   0 Batch   16/33 - Train Accuracy:  0.414, Validation Accuracy:  0.437, Loss:  2.235\n",
      "Epoch   0 Batch   17/33 - Train Accuracy:  0.453, Validation Accuracy:  0.454, Loss:  2.173\n",
      "Epoch   0 Batch   18/33 - Train Accuracy:  0.496, Validation Accuracy:  0.492, Loss:  2.155\n",
      "Epoch   0 Batch   19/33 - Train Accuracy:  0.471, Validation Accuracy:  0.467, Loss:  2.155\n",
      "Epoch   0 Batch   20/33 - Train Accuracy:  0.465, Validation Accuracy:  0.488, Loss:  2.165\n",
      "Epoch   0 Batch   21/33 - Train Accuracy:  0.496, Validation Accuracy:  0.494, Loss:  2.125\n",
      "Epoch   0 Batch   22/33 - Train Accuracy:  0.524, Validation Accuracy:  0.477, Loss:  2.054\n",
      "Epoch   0 Batch   23/33 - Train Accuracy:  0.497, Validation Accuracy:  0.521, Loss:  2.142\n",
      "Epoch   0 Batch   24/33 - Train Accuracy:  0.495, Validation Accuracy:  0.515, Loss:  2.123\n",
      "Epoch   0 Batch   25/33 - Train Accuracy:  0.524, Validation Accuracy:  0.517, Loss:  2.067\n",
      "Epoch   0 Batch   26/33 - Train Accuracy:  0.509, Validation Accuracy:  0.506, Loss:  2.060\n",
      "Epoch   0 Batch   27/33 - Train Accuracy:  0.547, Validation Accuracy:  0.508, Loss:  2.020\n",
      "Epoch   0 Batch   28/33 - Train Accuracy:  0.457, Validation Accuracy:  0.482, Loss:  2.085\n",
      "Epoch   0 Batch   29/33 - Train Accuracy:  0.517, Validation Accuracy:  0.490, Loss:  2.021\n",
      "Epoch   0 Batch   30/33 - Train Accuracy:  0.523, Validation Accuracy:  0.521, Loss:  2.046\n",
      "Epoch   0 Batch   31/33 - Train Accuracy:  0.525, Validation Accuracy:  0.525, Loss:  2.022\n",
      "Epoch   1 Batch    0/33 - Train Accuracy:  0.548, Validation Accuracy:  0.545, Loss:  2.025\n",
      "Epoch   1 Batch    1/33 - Train Accuracy:  0.556, Validation Accuracy:  0.552, Loss:  1.996\n",
      "Epoch   1 Batch    2/33 - Train Accuracy:  0.552, Validation Accuracy:  0.548, Loss:  2.002\n",
      "Epoch   1 Batch    3/33 - Train Accuracy:  0.531, Validation Accuracy:  0.550, Loss:  2.027\n",
      "Epoch   1 Batch    4/33 - Train Accuracy:  0.552, Validation Accuracy:  0.550, Loss:  1.989\n",
      "Epoch   1 Batch    5/33 - Train Accuracy:  0.542, Validation Accuracy:  0.539, Loss:  1.992\n",
      "Epoch   1 Batch    6/33 - Train Accuracy:  0.553, Validation Accuracy:  0.548, Loss:  1.984\n",
      "Epoch   1 Batch    7/33 - Train Accuracy:  0.543, Validation Accuracy:  0.547, Loss:  1.989\n",
      "Epoch   1 Batch    8/33 - Train Accuracy:  0.538, Validation Accuracy:  0.533, Loss:  1.996\n",
      "Epoch   1 Batch    9/33 - Train Accuracy:  0.557, Validation Accuracy:  0.573, Loss:  2.007\n",
      "Epoch   1 Batch   10/33 - Train Accuracy:  0.587, Validation Accuracy:  0.589, Loss:  1.967\n",
      "Epoch   1 Batch   11/33 - Train Accuracy:  0.557, Validation Accuracy:  0.569, Loss:  1.989\n",
      "Epoch   1 Batch   12/33 - Train Accuracy:  0.547, Validation Accuracy:  0.571, Loss:  1.996\n",
      "Epoch   1 Batch   13/33 - Train Accuracy:  0.565, Validation Accuracy:  0.564, Loss:  1.964\n",
      "Epoch   1 Batch   14/33 - Train Accuracy:  0.569, Validation Accuracy:  0.585, Loss:  1.979\n",
      "Epoch   1 Batch   15/33 - Train Accuracy:  0.573, Validation Accuracy:  0.590, Loss:  1.969\n",
      "Epoch   1 Batch   16/33 - Train Accuracy:  0.564, Validation Accuracy:  0.579, Loss:  1.974\n",
      "Epoch   1 Batch   17/33 - Train Accuracy:  0.606, Validation Accuracy:  0.604, Loss:  1.958\n",
      "Epoch   1 Batch   18/33 - Train Accuracy:  0.612, Validation Accuracy:  0.608, Loss:  1.937\n",
      "Epoch   1 Batch   19/33 - Train Accuracy:  0.614, Validation Accuracy:  0.611, Loss:  1.938\n",
      "Epoch   1 Batch   20/33 - Train Accuracy:  0.598, Validation Accuracy:  0.614, Loss:  1.959\n",
      "Epoch   1 Batch   21/33 - Train Accuracy:  0.617, Validation Accuracy:  0.614, Loss:  1.918\n",
      "Epoch   1 Batch   22/33 - Train Accuracy:  0.644, Validation Accuracy:  0.602, Loss:  1.871\n",
      "Epoch   1 Batch   23/33 - Train Accuracy:  0.590, Validation Accuracy:  0.602, Loss:  1.933\n",
      "Epoch   1 Batch   24/33 - Train Accuracy:  0.602, Validation Accuracy:  0.621, Loss:  1.933\n",
      "Epoch   1 Batch   25/33 - Train Accuracy:  0.627, Validation Accuracy:  0.619, Loss:  1.894\n",
      "Epoch   1 Batch   26/33 - Train Accuracy:  0.623, Validation Accuracy:  0.615, Loss:  1.907\n",
      "Epoch   1 Batch   27/33 - Train Accuracy:  0.648, Validation Accuracy:  0.614, Loss:  1.858\n",
      "Epoch   1 Batch   28/33 - Train Accuracy:  0.600, Validation Accuracy:  0.615, Loss:  1.914\n",
      "Epoch   1 Batch   29/33 - Train Accuracy:  0.637, Validation Accuracy:  0.620, Loss:  1.871\n",
      "Epoch   1 Batch   30/33 - Train Accuracy:  0.635, Validation Accuracy:  0.629, Loss:  1.880\n",
      "Epoch   1 Batch   31/33 - Train Accuracy:  0.637, Validation Accuracy:  0.638, Loss:  1.870\n",
      "Epoch   2 Batch    0/33 - Train Accuracy:  0.642, Validation Accuracy:  0.640, Loss:  1.889\n",
      "Epoch   2 Batch    1/33 - Train Accuracy:  0.647, Validation Accuracy:  0.637, Loss:  1.874\n",
      "Epoch   2 Batch    2/33 - Train Accuracy:  0.638, Validation Accuracy:  0.641, Loss:  1.867\n",
      "Epoch   2 Batch    3/33 - Train Accuracy:  0.629, Validation Accuracy:  0.640, Loss:  1.881\n",
      "Epoch   2 Batch    4/33 - Train Accuracy:  0.647, Validation Accuracy:  0.643, Loss:  1.876\n",
      "Epoch   2 Batch    5/33 - Train Accuracy:  0.651, Validation Accuracy:  0.645, Loss:  1.868\n",
      "Epoch   2 Batch    6/33 - Train Accuracy:  0.638, Validation Accuracy:  0.631, Loss:  1.844\n",
      "Epoch   2 Batch    7/33 - Train Accuracy:  0.638, Validation Accuracy:  0.641, Loss:  1.852\n",
      "Epoch   2 Batch    8/33 - Train Accuracy:  0.645, Validation Accuracy:  0.643, Loss:  1.847\n",
      "Epoch   2 Batch    9/33 - Train Accuracy:  0.636, Validation Accuracy:  0.648, Loss:  1.880\n",
      "Epoch   2 Batch   10/33 - Train Accuracy:  0.647, Validation Accuracy:  0.652, Loss:  1.862\n",
      "Epoch   2 Batch   11/33 - Train Accuracy:  0.639, Validation Accuracy:  0.654, Loss:  1.858\n",
      "Epoch   2 Batch   12/33 - Train Accuracy:  0.623, Validation Accuracy:  0.649, Loss:  1.857\n",
      "Epoch   2 Batch   13/33 - Train Accuracy:  0.643, Validation Accuracy:  0.648, Loss:  1.829\n",
      "Epoch   2 Batch   14/33 - Train Accuracy:  0.644, Validation Accuracy:  0.660, Loss:  1.853\n",
      "Epoch   2 Batch   15/33 - Train Accuracy:  0.642, Validation Accuracy:  0.664, Loss:  1.860\n",
      "Epoch   2 Batch   16/33 - Train Accuracy:  0.657, Validation Accuracy:  0.670, Loss:  1.849\n",
      "Epoch   2 Batch   17/33 - Train Accuracy:  0.678, Validation Accuracy:  0.674, Loss:  1.836\n",
      "Epoch   2 Batch   18/33 - Train Accuracy:  0.676, Validation Accuracy:  0.674, Loss:  1.823\n",
      "Epoch   2 Batch   19/33 - Train Accuracy:  0.677, Validation Accuracy:  0.678, Loss:  1.814\n",
      "Epoch   2 Batch   20/33 - Train Accuracy:  0.664, Validation Accuracy:  0.682, Loss:  1.829\n",
      "Epoch   2 Batch   21/33 - Train Accuracy:  0.680, Validation Accuracy:  0.683, Loss:  1.815\n",
      "Epoch   2 Batch   22/33 - Train Accuracy:  0.718, Validation Accuracy:  0.684, Loss:  1.767\n",
      "Epoch   2 Batch   23/33 - Train Accuracy:  0.674, Validation Accuracy:  0.687, Loss:  1.811\n",
      "Epoch   2 Batch   24/33 - Train Accuracy:  0.681, Validation Accuracy:  0.692, Loss:  1.816\n",
      "Epoch   2 Batch   25/33 - Train Accuracy:  0.705, Validation Accuracy:  0.698, Loss:  1.795\n",
      "Epoch   2 Batch   26/33 - Train Accuracy:  0.710, Validation Accuracy:  0.703, Loss:  1.800\n",
      "Epoch   2 Batch   27/33 - Train Accuracy:  0.734, Validation Accuracy:  0.705, Loss:  1.765\n",
      "Epoch   2 Batch   28/33 - Train Accuracy:  0.705, Validation Accuracy:  0.712, Loss:  1.824\n",
      "Epoch   2 Batch   29/33 - Train Accuracy:  0.734, Validation Accuracy:  0.711, Loss:  1.760\n",
      "Epoch   2 Batch   30/33 - Train Accuracy:  0.721, Validation Accuracy:  0.712, Loss:  1.772\n",
      "Epoch   2 Batch   31/33 - Train Accuracy:  0.661, Validation Accuracy:  0.661, Loss:  1.779\n",
      "Epoch   3 Batch    0/33 - Train Accuracy:  0.709, Validation Accuracy:  0.708, Loss:  1.798\n",
      "Epoch   3 Batch    1/33 - Train Accuracy:  0.720, Validation Accuracy:  0.713, Loss:  1.781\n",
      "Epoch   3 Batch    2/33 - Train Accuracy:  0.703, Validation Accuracy:  0.706, Loss:  1.771\n",
      "Epoch   3 Batch    3/33 - Train Accuracy:  0.711, Validation Accuracy:  0.717, Loss:  1.781\n",
      "Epoch   3 Batch    4/33 - Train Accuracy:  0.741, Validation Accuracy:  0.736, Loss:  1.766\n",
      "Epoch   3 Batch    5/33 - Train Accuracy:  0.749, Validation Accuracy:  0.741, Loss:  1.738\n",
      "Epoch   3 Batch    6/33 - Train Accuracy:  0.744, Validation Accuracy:  0.741, Loss:  1.746\n",
      "Epoch   3 Batch    7/33 - Train Accuracy:  0.744, Validation Accuracy:  0.745, Loss:  1.751\n",
      "Epoch   3 Batch    8/33 - Train Accuracy:  0.752, Validation Accuracy:  0.752, Loss:  1.743\n",
      "Epoch   3 Batch    9/33 - Train Accuracy:  0.746, Validation Accuracy:  0.755, Loss:  1.756\n",
      "Epoch   3 Batch   10/33 - Train Accuracy:  0.763, Validation Accuracy:  0.761, Loss:  1.730\n",
      "Epoch   3 Batch   11/33 - Train Accuracy:  0.757, Validation Accuracy:  0.761, Loss:  1.742\n",
      "Epoch   3 Batch   12/33 - Train Accuracy:  0.750, Validation Accuracy:  0.764, Loss:  1.738\n",
      "Epoch   3 Batch   13/33 - Train Accuracy:  0.773, Validation Accuracy:  0.770, Loss:  1.735\n",
      "Epoch   3 Batch   14/33 - Train Accuracy:  0.759, Validation Accuracy:  0.770, Loss:  1.732\n",
      "Epoch   3 Batch   15/33 - Train Accuracy:  0.760, Validation Accuracy:  0.770, Loss:  1.723\n",
      "Epoch   3 Batch   16/33 - Train Accuracy:  0.769, Validation Accuracy:  0.773, Loss:  1.727\n",
      "Epoch   3 Batch   17/33 - Train Accuracy:  0.778, Validation Accuracy:  0.776, Loss:  1.710\n",
      "Epoch   3 Batch   18/33 - Train Accuracy:  0.779, Validation Accuracy:  0.780, Loss:  1.695\n",
      "Epoch   3 Batch   19/33 - Train Accuracy:  0.784, Validation Accuracy:  0.787, Loss:  1.698\n",
      "Epoch   3 Batch   20/33 - Train Accuracy:  0.772, Validation Accuracy:  0.785, Loss:  1.714\n",
      "Epoch   3 Batch   21/33 - Train Accuracy:  0.788, Validation Accuracy:  0.788, Loss:  1.700\n",
      "Epoch   3 Batch   22/33 - Train Accuracy:  0.816, Validation Accuracy:  0.795, Loss:  1.670\n",
      "Epoch   3 Batch   23/33 - Train Accuracy:  0.783, Validation Accuracy:  0.794, Loss:  1.685\n",
      "Epoch   3 Batch   24/33 - Train Accuracy:  0.795, Validation Accuracy:  0.802, Loss:  1.698\n",
      "Epoch   3 Batch   25/33 - Train Accuracy:  0.799, Validation Accuracy:  0.802, Loss:  1.673\n",
      "Epoch   3 Batch   26/33 - Train Accuracy:  0.802, Validation Accuracy:  0.800, Loss:  1.677\n",
      "Epoch   3 Batch   27/33 - Train Accuracy:  0.826, Validation Accuracy:  0.806, Loss:  1.662\n",
      "Epoch   3 Batch   28/33 - Train Accuracy:  0.809, Validation Accuracy:  0.811, Loss:  1.680\n",
      "Epoch   3 Batch   29/33 - Train Accuracy:  0.822, Validation Accuracy:  0.813, Loss:  1.662\n",
      "Epoch   3 Batch   30/33 - Train Accuracy:  0.819, Validation Accuracy:  0.815, Loss:  1.657\n",
      "Epoch   3 Batch   31/33 - Train Accuracy:  0.822, Validation Accuracy:  0.822, Loss:  1.665\n",
      "Epoch   4 Batch    0/33 - Train Accuracy:  0.826, Validation Accuracy:  0.828, Loss:  1.653\n",
      "Epoch   4 Batch    1/33 - Train Accuracy:  0.834, Validation Accuracy:  0.833, Loss:  1.656\n",
      "Epoch   4 Batch    2/33 - Train Accuracy:  0.830, Validation Accuracy:  0.834, Loss:  1.652\n",
      "Epoch   4 Batch    3/33 - Train Accuracy:  0.832, Validation Accuracy:  0.833, Loss:  1.652\n",
      "Epoch   4 Batch    4/33 - Train Accuracy:  0.834, Validation Accuracy:  0.835, Loss:  1.640\n",
      "Epoch   4 Batch    5/33 - Train Accuracy:  0.845, Validation Accuracy:  0.839, Loss:  1.634\n",
      "Epoch   4 Batch    6/33 - Train Accuracy:  0.844, Validation Accuracy:  0.844, Loss:  1.632\n",
      "Epoch   4 Batch    7/33 - Train Accuracy:  0.841, Validation Accuracy:  0.844, Loss:  1.630\n",
      "Epoch   4 Batch    8/33 - Train Accuracy:  0.849, Validation Accuracy:  0.850, Loss:  1.632\n",
      "Epoch   4 Batch    9/33 - Train Accuracy:  0.838, Validation Accuracy:  0.848, Loss:  1.643\n",
      "Epoch   4 Batch   10/33 - Train Accuracy:  0.852, Validation Accuracy:  0.852, Loss:  1.629\n",
      "Epoch   4 Batch   11/33 - Train Accuracy:  0.849, Validation Accuracy:  0.854, Loss:  1.624\n",
      "Epoch   4 Batch   12/33 - Train Accuracy:  0.846, Validation Accuracy:  0.855, Loss:  1.621\n",
      "Epoch   4 Batch   13/33 - Train Accuracy:  0.858, Validation Accuracy:  0.860, Loss:  1.614\n",
      "Epoch   4 Batch   14/33 - Train Accuracy:  0.853, Validation Accuracy:  0.856, Loss:  1.615\n",
      "Epoch   4 Batch   15/33 - Train Accuracy:  0.848, Validation Accuracy:  0.855, Loss:  1.615\n",
      "Epoch   4 Batch   16/33 - Train Accuracy:  0.851, Validation Accuracy:  0.861, Loss:  1.604\n",
      "Epoch   4 Batch   17/33 - Train Accuracy:  0.865, Validation Accuracy:  0.867, Loss:  1.602\n",
      "Epoch   4 Batch   18/33 - Train Accuracy:  0.864, Validation Accuracy:  0.868, Loss:  1.600\n",
      "Epoch   4 Batch   19/33 - Train Accuracy:  0.867, Validation Accuracy:  0.868, Loss:  1.614\n",
      "Epoch   4 Batch   20/33 - Train Accuracy:  0.864, Validation Accuracy:  0.871, Loss:  1.608\n",
      "Epoch   4 Batch   21/33 - Train Accuracy:  0.864, Validation Accuracy:  0.871, Loss:  1.599\n",
      "Epoch   4 Batch   22/33 - Train Accuracy:  0.885, Validation Accuracy:  0.871, Loss:  1.574\n",
      "Epoch   4 Batch   23/33 - Train Accuracy:  0.865, Validation Accuracy:  0.872, Loss:  1.593\n",
      "Epoch   4 Batch   24/33 - Train Accuracy:  0.868, Validation Accuracy:  0.874, Loss:  1.599\n",
      "Epoch   4 Batch   25/33 - Train Accuracy:  0.875, Validation Accuracy:  0.874, Loss:  1.575\n",
      "Epoch   4 Batch   26/33 - Train Accuracy:  0.880, Validation Accuracy:  0.873, Loss:  1.585\n",
      "Epoch   4 Batch   27/33 - Train Accuracy:  0.886, Validation Accuracy:  0.876, Loss:  1.563\n",
      "Epoch   4 Batch   28/33 - Train Accuracy:  0.876, Validation Accuracy:  0.877, Loss:  1.581\n",
      "Epoch   4 Batch   29/33 - Train Accuracy:  0.884, Validation Accuracy:  0.876, Loss:  1.566\n",
      "Epoch   4 Batch   30/33 - Train Accuracy:  0.880, Validation Accuracy:  0.878, Loss:  1.567\n",
      "Epoch   4 Batch   31/33 - Train Accuracy:  0.879, Validation Accuracy:  0.881, Loss:  1.568\n",
      "Epoch   5 Batch    0/33 - Train Accuracy:  0.878, Validation Accuracy:  0.877, Loss:  1.558\n",
      "Epoch   5 Batch    1/33 - Train Accuracy:  0.881, Validation Accuracy:  0.875, Loss:  1.576\n",
      "Epoch   5 Batch    2/33 - Train Accuracy:  0.880, Validation Accuracy:  0.880, Loss:  1.568\n",
      "Epoch   5 Batch    3/33 - Train Accuracy:  0.877, Validation Accuracy:  0.882, Loss:  1.570\n",
      "Epoch   5 Batch    4/33 - Train Accuracy:  0.882, Validation Accuracy:  0.880, Loss:  1.556\n",
      "Epoch   5 Batch    5/33 - Train Accuracy:  0.889, Validation Accuracy:  0.887, Loss:  1.555\n",
      "Epoch   5 Batch    6/33 - Train Accuracy:  0.886, Validation Accuracy:  0.890, Loss:  1.545\n",
      "Epoch   5 Batch    7/33 - Train Accuracy:  0.885, Validation Accuracy:  0.890, Loss:  1.557\n",
      "Epoch   5 Batch    8/33 - Train Accuracy:  0.891, Validation Accuracy:  0.892, Loss:  1.563\n",
      "Epoch   5 Batch    9/33 - Train Accuracy:  0.883, Validation Accuracy:  0.887, Loss:  1.571\n",
      "Epoch   5 Batch   10/33 - Train Accuracy:  0.895, Validation Accuracy:  0.893, Loss:  1.555\n",
      "Epoch   5 Batch   11/33 - Train Accuracy:  0.892, Validation Accuracy:  0.897, Loss:  1.555\n",
      "Epoch   5 Batch   12/33 - Train Accuracy:  0.892, Validation Accuracy:  0.895, Loss:  1.564\n",
      "Epoch   5 Batch   13/33 - Train Accuracy:  0.895, Validation Accuracy:  0.894, Loss:  1.544\n",
      "Epoch   5 Batch   14/33 - Train Accuracy:  0.894, Validation Accuracy:  0.893, Loss:  1.541\n",
      "Epoch   5 Batch   15/33 - Train Accuracy:  0.884, Validation Accuracy:  0.891, Loss:  1.541\n",
      "Epoch   5 Batch   16/33 - Train Accuracy:  0.886, Validation Accuracy:  0.891, Loss:  1.545\n",
      "Epoch   5 Batch   17/33 - Train Accuracy:  0.894, Validation Accuracy:  0.893, Loss:  1.549\n",
      "Epoch   5 Batch   18/33 - Train Accuracy:  0.901, Validation Accuracy:  0.902, Loss:  1.550\n",
      "Epoch   5 Batch   19/33 - Train Accuracy:  0.907, Validation Accuracy:  0.901, Loss:  1.519\n",
      "Epoch   5 Batch   20/33 - Train Accuracy:  0.896, Validation Accuracy:  0.898, Loss:  1.544\n",
      "Epoch   5 Batch   21/33 - Train Accuracy:  0.901, Validation Accuracy:  0.906, Loss:  1.529\n",
      "Epoch   5 Batch   22/33 - Train Accuracy:  0.917, Validation Accuracy:  0.906, Loss:  1.515\n",
      "Epoch   5 Batch   23/33 - Train Accuracy:  0.894, Validation Accuracy:  0.900, Loss:  1.533\n",
      "Epoch   5 Batch   24/33 - Train Accuracy:  0.908, Validation Accuracy:  0.909, Loss:  1.510\n",
      "Epoch   5 Batch   25/33 - Train Accuracy:  0.912, Validation Accuracy:  0.914, Loss:  1.513\n",
      "Epoch   5 Batch   26/33 - Train Accuracy:  0.912, Validation Accuracy:  0.912, Loss:  1.531\n",
      "Epoch   5 Batch   27/33 - Train Accuracy:  0.920, Validation Accuracy:  0.912, Loss:  1.506\n",
      "Epoch   5 Batch   28/33 - Train Accuracy:  0.914, Validation Accuracy:  0.913, Loss:  1.518\n",
      "Epoch   5 Batch   29/33 - Train Accuracy:  0.920, Validation Accuracy:  0.915, Loss:  1.508\n",
      "Epoch   5 Batch   30/33 - Train Accuracy:  0.918, Validation Accuracy:  0.913, Loss:  1.522\n",
      "Epoch   5 Batch   31/33 - Train Accuracy:  0.911, Validation Accuracy:  0.914, Loss:  1.510\n",
      "Epoch   6 Batch    0/33 - Train Accuracy:  0.911, Validation Accuracy:  0.912, Loss:  1.510\n",
      "Epoch   6 Batch    1/33 - Train Accuracy:  0.916, Validation Accuracy:  0.917, Loss:  1.517\n",
      "Epoch   6 Batch    2/33 - Train Accuracy:  0.914, Validation Accuracy:  0.915, Loss:  1.508\n",
      "Epoch   6 Batch    3/33 - Train Accuracy:  0.918, Validation Accuracy:  0.918, Loss:  1.508\n",
      "Epoch   6 Batch    4/33 - Train Accuracy:  0.920, Validation Accuracy:  0.923, Loss:  1.515\n",
      "Epoch   6 Batch    5/33 - Train Accuracy:  0.927, Validation Accuracy:  0.923, Loss:  1.499\n",
      "Epoch   6 Batch    6/33 - Train Accuracy:  0.919, Validation Accuracy:  0.918, Loss:  1.498\n",
      "Epoch   6 Batch    7/33 - Train Accuracy:  0.922, Validation Accuracy:  0.923, Loss:  1.501\n",
      "Epoch   6 Batch    8/33 - Train Accuracy:  0.925, Validation Accuracy:  0.926, Loss:  1.499\n",
      "Epoch   6 Batch    9/33 - Train Accuracy:  0.924, Validation Accuracy:  0.927, Loss:  1.502\n",
      "Epoch   6 Batch   10/33 - Train Accuracy:  0.927, Validation Accuracy:  0.926, Loss:  1.499\n",
      "Epoch   6 Batch   11/33 - Train Accuracy:  0.927, Validation Accuracy:  0.931, Loss:  1.493\n",
      "Epoch   6 Batch   12/33 - Train Accuracy:  0.929, Validation Accuracy:  0.930, Loss:  1.496\n",
      "Epoch   6 Batch   13/33 - Train Accuracy:  0.932, Validation Accuracy:  0.934, Loss:  1.497\n",
      "Epoch   6 Batch   14/33 - Train Accuracy:  0.930, Validation Accuracy:  0.928, Loss:  1.491\n",
      "Epoch   6 Batch   15/33 - Train Accuracy:  0.926, Validation Accuracy:  0.931, Loss:  1.504\n",
      "Epoch   6 Batch   16/33 - Train Accuracy:  0.930, Validation Accuracy:  0.935, Loss:  1.497\n",
      "Epoch   6 Batch   17/33 - Train Accuracy:  0.932, Validation Accuracy:  0.934, Loss:  1.478\n",
      "Epoch   6 Batch   18/33 - Train Accuracy:  0.935, Validation Accuracy:  0.938, Loss:  1.487\n",
      "Epoch   6 Batch   19/33 - Train Accuracy:  0.939, Validation Accuracy:  0.938, Loss:  1.480\n",
      "Epoch   6 Batch   20/33 - Train Accuracy:  0.940, Validation Accuracy:  0.940, Loss:  1.487\n",
      "Epoch   6 Batch   21/33 - Train Accuracy:  0.936, Validation Accuracy:  0.938, Loss:  1.485\n",
      "Epoch   6 Batch   22/33 - Train Accuracy:  0.951, Validation Accuracy:  0.941, Loss:  1.477\n",
      "Epoch   6 Batch   23/33 - Train Accuracy:  0.937, Validation Accuracy:  0.939, Loss:  1.470\n",
      "Epoch   6 Batch   24/33 - Train Accuracy:  0.942, Validation Accuracy:  0.940, Loss:  1.486\n",
      "Epoch   6 Batch   25/33 - Train Accuracy:  0.942, Validation Accuracy:  0.945, Loss:  1.488\n",
      "Epoch   6 Batch   26/33 - Train Accuracy:  0.943, Validation Accuracy:  0.944, Loss:  1.466\n",
      "Epoch   6 Batch   27/33 - Train Accuracy:  0.950, Validation Accuracy:  0.944, Loss:  1.457\n",
      "Epoch   6 Batch   28/33 - Train Accuracy:  0.947, Validation Accuracy:  0.945, Loss:  1.464\n",
      "Epoch   6 Batch   29/33 - Train Accuracy:  0.949, Validation Accuracy:  0.944, Loss:  1.453\n",
      "Epoch   6 Batch   30/33 - Train Accuracy:  0.948, Validation Accuracy:  0.946, Loss:  1.462\n",
      "Epoch   6 Batch   31/33 - Train Accuracy:  0.946, Validation Accuracy:  0.947, Loss:  1.469\n",
      "Epoch   7 Batch    0/33 - Train Accuracy:  0.947, Validation Accuracy:  0.946, Loss:  1.467\n",
      "Epoch   7 Batch    1/33 - Train Accuracy:  0.949, Validation Accuracy:  0.948, Loss:  1.474\n",
      "Epoch   7 Batch    2/33 - Train Accuracy:  0.947, Validation Accuracy:  0.949, Loss:  1.464\n",
      "Epoch   7 Batch    3/33 - Train Accuracy:  0.946, Validation Accuracy:  0.948, Loss:  1.467\n",
      "Epoch   7 Batch    4/33 - Train Accuracy:  0.947, Validation Accuracy:  0.949, Loss:  1.459\n",
      "Epoch   7 Batch    5/33 - Train Accuracy:  0.951, Validation Accuracy:  0.948, Loss:  1.460\n",
      "Epoch   7 Batch    6/33 - Train Accuracy:  0.949, Validation Accuracy:  0.949, Loss:  1.457\n",
      "Epoch   7 Batch    7/33 - Train Accuracy:  0.945, Validation Accuracy:  0.950, Loss:  1.461\n",
      "Epoch   7 Batch    8/33 - Train Accuracy:  0.950, Validation Accuracy:  0.949, Loss:  1.457\n",
      "Epoch   7 Batch    9/33 - Train Accuracy:  0.948, Validation Accuracy:  0.951, Loss:  1.449\n",
      "Epoch   7 Batch   10/33 - Train Accuracy:  0.953, Validation Accuracy:  0.950, Loss:  1.450\n",
      "Epoch   7 Batch   11/33 - Train Accuracy:  0.948, Validation Accuracy:  0.950, Loss:  1.450\n",
      "Epoch   7 Batch   12/33 - Train Accuracy:  0.949, Validation Accuracy:  0.951, Loss:  1.458\n",
      "Epoch   7 Batch   13/33 - Train Accuracy:  0.951, Validation Accuracy:  0.952, Loss:  1.452\n",
      "Epoch   7 Batch   14/33 - Train Accuracy:  0.949, Validation Accuracy:  0.953, Loss:  1.465\n",
      "Epoch   7 Batch   15/33 - Train Accuracy:  0.948, Validation Accuracy:  0.953, Loss:  1.457\n",
      "Epoch   7 Batch   16/33 - Train Accuracy:  0.950, Validation Accuracy:  0.953, Loss:  1.463\n",
      "Epoch   7 Batch   17/33 - Train Accuracy:  0.953, Validation Accuracy:  0.954, Loss:  1.451\n",
      "Epoch   7 Batch   18/33 - Train Accuracy:  0.956, Validation Accuracy:  0.954, Loss:  1.451\n",
      "Epoch   7 Batch   19/33 - Train Accuracy:  0.955, Validation Accuracy:  0.953, Loss:  1.449\n",
      "Epoch   7 Batch   20/33 - Train Accuracy:  0.951, Validation Accuracy:  0.954, Loss:  1.435\n",
      "Epoch   7 Batch   21/33 - Train Accuracy:  0.955, Validation Accuracy:  0.955, Loss:  1.440\n",
      "Epoch   7 Batch   22/33 - Train Accuracy:  0.963, Validation Accuracy:  0.954, Loss:  1.431\n",
      "Epoch   7 Batch   23/33 - Train Accuracy:  0.953, Validation Accuracy:  0.955, Loss:  1.455\n",
      "Epoch   7 Batch   24/33 - Train Accuracy:  0.955, Validation Accuracy:  0.955, Loss:  1.445\n",
      "Epoch   7 Batch   25/33 - Train Accuracy:  0.955, Validation Accuracy:  0.955, Loss:  1.446\n",
      "Epoch   7 Batch   26/33 - Train Accuracy:  0.956, Validation Accuracy:  0.953, Loss:  1.446\n",
      "Epoch   7 Batch   27/33 - Train Accuracy:  0.958, Validation Accuracy:  0.954, Loss:  1.443\n",
      "Epoch   7 Batch   28/33 - Train Accuracy:  0.958, Validation Accuracy:  0.956, Loss:  1.442\n",
      "Epoch   7 Batch   29/33 - Train Accuracy:  0.959, Validation Accuracy:  0.954, Loss:  1.447\n",
      "Epoch   7 Batch   30/33 - Train Accuracy:  0.958, Validation Accuracy:  0.956, Loss:  1.439\n",
      "Epoch   7 Batch   31/33 - Train Accuracy:  0.957, Validation Accuracy:  0.954, Loss:  1.447\n",
      "Epoch   8 Batch    0/33 - Train Accuracy:  0.959, Validation Accuracy:  0.955, Loss:  1.456\n",
      "Epoch   8 Batch    1/33 - Train Accuracy:  0.957, Validation Accuracy:  0.956, Loss:  1.439\n",
      "Epoch   8 Batch    2/33 - Train Accuracy:  0.959, Validation Accuracy:  0.957, Loss:  1.431\n",
      "Epoch   8 Batch    3/33 - Train Accuracy:  0.954, Validation Accuracy:  0.958, Loss:  1.440\n",
      "Epoch   8 Batch    4/33 - Train Accuracy:  0.958, Validation Accuracy:  0.957, Loss:  1.453\n",
      "Epoch   8 Batch    5/33 - Train Accuracy:  0.960, Validation Accuracy:  0.958, Loss:  1.447\n",
      "Epoch   8 Batch    6/33 - Train Accuracy:  0.956, Validation Accuracy:  0.956, Loss:  1.448\n",
      "Epoch   8 Batch    7/33 - Train Accuracy:  0.954, Validation Accuracy:  0.958, Loss:  1.451\n",
      "Epoch   8 Batch    8/33 - Train Accuracy:  0.958, Validation Accuracy:  0.956, Loss:  1.453\n",
      "Epoch   8 Batch    9/33 - Train Accuracy:  0.957, Validation Accuracy:  0.959, Loss:  1.444\n",
      "Epoch   8 Batch   10/33 - Train Accuracy:  0.959, Validation Accuracy:  0.959, Loss:  1.443\n",
      "Epoch   8 Batch   11/33 - Train Accuracy:  0.956, Validation Accuracy:  0.959, Loss:  1.452\n",
      "Epoch   8 Batch   12/33 - Train Accuracy:  0.957, Validation Accuracy:  0.957, Loss:  1.449\n",
      "Epoch   8 Batch   13/33 - Train Accuracy:  0.957, Validation Accuracy:  0.959, Loss:  1.437\n",
      "Epoch   8 Batch   14/33 - Train Accuracy:  0.958, Validation Accuracy:  0.957, Loss:  1.429\n",
      "Epoch   8 Batch   15/33 - Train Accuracy:  0.957, Validation Accuracy:  0.959, Loss:  1.431\n",
      "Epoch   8 Batch   16/33 - Train Accuracy:  0.959, Validation Accuracy:  0.956, Loss:  1.430\n",
      "Epoch   8 Batch   17/33 - Train Accuracy:  0.961, Validation Accuracy:  0.957, Loss:  1.428\n",
      "Epoch   8 Batch   18/33 - Train Accuracy:  0.961, Validation Accuracy:  0.960, Loss:  1.432\n",
      "Epoch   8 Batch   19/33 - Train Accuracy:  0.964, Validation Accuracy:  0.960, Loss:  1.433\n",
      "Epoch   8 Batch   20/33 - Train Accuracy:  0.959, Validation Accuracy:  0.960, Loss:  1.443\n",
      "Epoch   8 Batch   21/33 - Train Accuracy:  0.962, Validation Accuracy:  0.960, Loss:  1.431\n",
      "Epoch   8 Batch   22/33 - Train Accuracy:  0.968, Validation Accuracy:  0.959, Loss:  1.435\n",
      "Epoch   8 Batch   23/33 - Train Accuracy:  0.961, Validation Accuracy:  0.962, Loss:  1.435\n",
      "Epoch   8 Batch   24/33 - Train Accuracy:  0.962, Validation Accuracy:  0.959, Loss:  1.434\n",
      "Epoch   8 Batch   25/33 - Train Accuracy:  0.959, Validation Accuracy:  0.958, Loss:  1.444\n",
      "Epoch   8 Batch   26/33 - Train Accuracy:  0.962, Validation Accuracy:  0.959, Loss:  1.442\n",
      "Epoch   8 Batch   27/33 - Train Accuracy:  0.964, Validation Accuracy:  0.959, Loss:  1.434\n",
      "Epoch   8 Batch   28/33 - Train Accuracy:  0.963, Validation Accuracy:  0.959, Loss:  1.441\n",
      "Epoch   8 Batch   29/33 - Train Accuracy:  0.960, Validation Accuracy:  0.959, Loss:  1.433\n",
      "Epoch   8 Batch   30/33 - Train Accuracy:  0.963, Validation Accuracy:  0.960, Loss:  1.434\n",
      "Epoch   8 Batch   31/33 - Train Accuracy:  0.964, Validation Accuracy:  0.961, Loss:  1.434\n",
      "Epoch   9 Batch    0/33 - Train Accuracy:  0.963, Validation Accuracy:  0.961, Loss:  1.442\n",
      "Epoch   9 Batch    1/33 - Train Accuracy:  0.964, Validation Accuracy:  0.961, Loss:  1.437\n",
      "Epoch   9 Batch    2/33 - Train Accuracy:  0.962, Validation Accuracy:  0.960, Loss:  1.431\n",
      "Epoch   9 Batch    3/33 - Train Accuracy:  0.962, Validation Accuracy:  0.959, Loss:  1.432\n",
      "Epoch   9 Batch    4/33 - Train Accuracy:  0.962, Validation Accuracy:  0.962, Loss:  1.430\n",
      "Epoch   9 Batch    5/33 - Train Accuracy:  0.964, Validation Accuracy:  0.962, Loss:  1.429\n",
      "Epoch   9 Batch    6/33 - Train Accuracy:  0.962, Validation Accuracy:  0.962, Loss:  1.428\n",
      "Epoch   9 Batch    7/33 - Train Accuracy:  0.960, Validation Accuracy:  0.961, Loss:  1.439\n",
      "Epoch   9 Batch    8/33 - Train Accuracy:  0.964, Validation Accuracy:  0.961, Loss:  1.425\n",
      "Epoch   9 Batch    9/33 - Train Accuracy:  0.963, Validation Accuracy:  0.962, Loss:  1.424\n",
      "Epoch   9 Batch   10/33 - Train Accuracy:  0.963, Validation Accuracy:  0.964, Loss:  1.437\n",
      "Epoch   9 Batch   11/33 - Train Accuracy:  0.962, Validation Accuracy:  0.963, Loss:  1.430\n",
      "Epoch   9 Batch   12/33 - Train Accuracy:  0.963, Validation Accuracy:  0.962, Loss:  1.431\n",
      "Epoch   9 Batch   13/33 - Train Accuracy:  0.964, Validation Accuracy:  0.962, Loss:  1.442\n",
      "Epoch   9 Batch   14/33 - Train Accuracy:  0.963, Validation Accuracy:  0.964, Loss:  1.433\n",
      "Epoch   9 Batch   15/33 - Train Accuracy:  0.959, Validation Accuracy:  0.963, Loss:  1.442\n",
      "Epoch   9 Batch   16/33 - Train Accuracy:  0.963, Validation Accuracy:  0.963, Loss:  1.426\n",
      "Epoch   9 Batch   17/33 - Train Accuracy:  0.966, Validation Accuracy:  0.963, Loss:  1.431\n",
      "Epoch   9 Batch   18/33 - Train Accuracy:  0.967, Validation Accuracy:  0.964, Loss:  1.430\n",
      "Epoch   9 Batch   19/33 - Train Accuracy:  0.970, Validation Accuracy:  0.965, Loss:  1.435\n",
      "Epoch   9 Batch   20/33 - Train Accuracy:  0.962, Validation Accuracy:  0.964, Loss:  1.450\n",
      "Epoch   9 Batch   21/33 - Train Accuracy:  0.965, Validation Accuracy:  0.965, Loss:  1.424\n",
      "Epoch   9 Batch   22/33 - Train Accuracy:  0.972, Validation Accuracy:  0.966, Loss:  1.430\n",
      "Epoch   9 Batch   23/33 - Train Accuracy:  0.965, Validation Accuracy:  0.966, Loss:  1.431\n",
      "Epoch   9 Batch   24/33 - Train Accuracy:  0.966, Validation Accuracy:  0.965, Loss:  1.434\n",
      "Epoch   9 Batch   25/33 - Train Accuracy:  0.966, Validation Accuracy:  0.964, Loss:  1.427\n",
      "Epoch   9 Batch   26/33 - Train Accuracy:  0.964, Validation Accuracy:  0.964, Loss:  1.450\n",
      "Epoch   9 Batch   27/33 - Train Accuracy:  0.968, Validation Accuracy:  0.965, Loss:  1.429\n",
      "Epoch   9 Batch   28/33 - Train Accuracy:  0.967, Validation Accuracy:  0.966, Loss:  1.434\n",
      "Epoch   9 Batch   29/33 - Train Accuracy:  0.965, Validation Accuracy:  0.966, Loss:  1.443\n",
      "Epoch   9 Batch   30/33 - Train Accuracy:  0.968, Validation Accuracy:  0.965, Loss:  1.432\n",
      "Epoch   9 Batch   31/33 - Train Accuracy:  0.966, Validation Accuracy:  0.966, Loss:  1.422\n",
      "Model Trained and Saved\n"
     ]
    }
   ],
   "source": [
    "\"\"\"\n",
    "DON'T MODIFY ANYTHING IN THIS CELL\n",
    "\"\"\"\n",
    "import time\n",
    "\n",
    "def get_accuracy(target, logits):\n",
    "    \"\"\"\n",
    "    Calculate accuracy\n",
    "    \"\"\"\n",
    "    max_seq = max(target.shape[1], logits.shape[1])\n",
    "    if max_seq - target.shape[1]:\n",
    "        target = np.pad(\n",
    "            target_batch,\n",
    "            [(0,0),(0,max_seq - target_batch.shape[1]), (0,0)],\n",
    "            'constant')\n",
    "    if max_seq - batch_train_logits.shape[1]:\n",
    "        logits = np.pad(\n",
    "            logits,\n",
    "            [(0,0),(0,max_seq - logits.shape[1]), (0,0)],\n",
    "            'constant')\n",
    "\n",
    "    return np.mean(np.equal(target, np.argmax(logits, 2)))\n",
    "\n",
    "train_source = source_int_text[batch_size:]\n",
    "train_target = target_int_text[batch_size:]\n",
    "\n",
    "valid_source = helper.pad_sentence_batch(source_int_text[:batch_size])\n",
    "valid_target = helper.pad_sentence_batch(target_int_text[:batch_size])\n",
    "\n",
    "with tf.Session(graph=train_graph) as sess:\n",
    "    sess.run(tf.global_variables_initializer())\n",
    "\n",
    "    for epoch_i in range(epochs):\n",
    "        for batch_i, (source_batch, target_batch) in enumerate(\n",
    "                helper.batch_data(train_source, train_target, batch_size)):\n",
    "            start_time = time.time()\n",
    "            \n",
    "            _, loss = sess.run(\n",
    "                [train_op, cost],\n",
    "                {input_data: source_batch,\n",
    "                 targets: target_batch,\n",
    "                 lr: learning_rate,\n",
    "                 sequence_length: target_batch.shape[1],\n",
    "                 keep_prob: keep_probability})\n",
    "            \n",
    "            batch_train_logits = sess.run(\n",
    "                inference_logits,\n",
    "                {input_data: source_batch, keep_prob: 1.0})\n",
    "            batch_valid_logits = sess.run(\n",
    "                inference_logits,\n",
    "                {input_data: valid_source, keep_prob: 1.0})\n",
    "                \n",
    "            train_acc = get_accuracy(target_batch, batch_train_logits)\n",
    "            valid_acc = get_accuracy(np.array(valid_target), batch_valid_logits)\n",
    "            end_time = time.time()\n",
    "            print('Epoch {:>3} Batch {:>4}/{} - Train Accuracy: {:>6.3f}, Validation Accuracy: {:>6.3f}, Loss: {:>6.3f}'\n",
    "                  .format(epoch_i, batch_i, len(source_int_text) // batch_size, train_acc, valid_acc, loss))\n",
    "\n",
    "    # Save Model\n",
    "    saver = tf.train.Saver()\n",
    "    saver.save(sess, save_path)\n",
    "    print('Model Trained and Saved')"
   ]
  },
  {
   "cell_type": "markdown",
   "metadata": {
    "deletable": true,
    "editable": true
   },
   "source": [
    "### Save Parameters\n",
    "Save the `batch_size` and `save_path` parameters for inference."
   ]
  },
  {
   "cell_type": "code",
   "execution_count": 66,
   "metadata": {
    "collapsed": false,
    "deletable": true,
    "editable": true
   },
   "outputs": [],
   "source": [
    "\"\"\"\n",
    "DON'T MODIFY ANYTHING IN THIS CELL\n",
    "\"\"\"\n",
    "# Save parameters for checkpoint\n",
    "helper.save_params(save_path)"
   ]
  },
  {
   "cell_type": "markdown",
   "metadata": {
    "deletable": true,
    "editable": true
   },
   "source": [
    "# Checkpoint"
   ]
  },
  {
   "cell_type": "code",
   "execution_count": 67,
   "metadata": {
    "collapsed": false,
    "deletable": true,
    "editable": true
   },
   "outputs": [],
   "source": [
    "\"\"\"\n",
    "DON'T MODIFY ANYTHING IN THIS CELL\n",
    "\"\"\"\n",
    "import tensorflow as tf\n",
    "import numpy as np\n",
    "import helper\n",
    "import problem_unittests as tests\n",
    "\n",
    "_, (source_vocab_to_int, target_vocab_to_int), (source_int_to_vocab, target_int_to_vocab) = helper.load_preprocess()\n",
    "load_path = helper.load_params()"
   ]
  },
  {
   "cell_type": "markdown",
   "metadata": {
    "deletable": true,
    "editable": true
   },
   "source": [
    "## Sentence to Sequence\n",
    "To feed a sentence into the model for translation, you first need to preprocess it.  Implement the function `sentence_to_seq()` to preprocess new sentences.\n",
    "\n",
    "- Convert the sentence to lowercase\n",
    "- Convert words into ids using `vocab_to_int`\n",
    " - Convert words not in the vocabulary, to the `<UNK>` word id."
   ]
  },
  {
   "cell_type": "code",
   "execution_count": 68,
   "metadata": {
    "collapsed": false,
    "deletable": true,
    "editable": true
   },
   "outputs": [
    {
     "name": "stdout",
     "output_type": "stream",
     "text": [
      "Tests Passed\n"
     ]
    }
   ],
   "source": [
    "def sentence_to_seq(sentence, vocab_to_int):\n",
    "    \"\"\"\n",
    "    Convert a sentence to a sequence of ids\n",
    "    :param sentence: String\n",
    "    :param vocab_to_int: Dictionary to go from the words to an id\n",
    "    :return: List of word ids\n",
    "    \"\"\"\n",
    "    # TODO: Implement Function\n",
    "    \n",
    "\n",
    "    return [vocab_to_int.get(word, vocab_to_int[\"<UNK>\"]) for word in sentence.lower().split()]\n",
    "\n",
    "\"\"\"\n",
    "DON'T MODIFY ANYTHING IN THIS CELL THAT IS BELOW THIS LINE\n",
    "\"\"\"\n",
    "tests.test_sentence_to_seq(sentence_to_seq)"
   ]
  },
  {
   "cell_type": "markdown",
   "metadata": {
    "deletable": true,
    "editable": true
   },
   "source": [
    "## Translate\n",
    "This will translate `translate_sentence` from English to French."
   ]
  },
  {
   "cell_type": "code",
   "execution_count": 75,
   "metadata": {
    "collapsed": false,
    "deletable": true,
    "editable": true
   },
   "outputs": [
    {
     "name": "stdout",
     "output_type": "stream",
     "text": [
      "Input\n",
      "  Word Ids:      [119, 215, 198, 105, 230, 104, 39]\n",
      "  English Words: ['he', 'saw', 'a', 'old', 'yellow', 'truck', '.']\n",
      "\n",
      "Prediction\n",
      "  Word Ids:      [191, 72, 348, 310, 178, 304, 163, 19, 1]\n",
      "  French Words: ['il', 'a', 'vu', 'le', 'vieux', 'camion', 'jaune', '.', '<EOS>']\n"
     ]
    }
   ],
   "source": [
    "translate_sentence = 'he saw a old yellow truck .'\n",
    "\n",
    "\n",
    "\"\"\"\n",
    "DON'T MODIFY ANYTHING IN THIS CELL\n",
    "\"\"\"\n",
    "translate_sentence = sentence_to_seq(translate_sentence, source_vocab_to_int)\n",
    "\n",
    "loaded_graph = tf.Graph()\n",
    "with tf.Session(graph=loaded_graph) as sess:\n",
    "    # Load saved model\n",
    "    loader = tf.train.import_meta_graph(load_path + '.meta')\n",
    "    loader.restore(sess, load_path)\n",
    "\n",
    "    input_data = loaded_graph.get_tensor_by_name('input:0')\n",
    "    logits = loaded_graph.get_tensor_by_name('logits:0')\n",
    "    keep_prob = loaded_graph.get_tensor_by_name('keep_prob:0')\n",
    "\n",
    "    translate_logits = sess.run(logits, {input_data: [translate_sentence], keep_prob: 1.0})[0]\n",
    "\n",
    "print('Input')\n",
    "print('  Word Ids:      {}'.format([i for i in translate_sentence]))\n",
    "print('  English Words: {}'.format([source_int_to_vocab[i] for i in translate_sentence]))\n",
    "\n",
    "print('\\nPrediction')\n",
    "print('  Word Ids:      {}'.format([i for i in np.argmax(translate_logits, 1)]))\n",
    "print('  French Words: {}'.format([target_int_to_vocab[i] for i in np.argmax(translate_logits, 1)]))"
   ]
  },
  {
   "cell_type": "markdown",
   "metadata": {
    "deletable": true,
    "editable": true
   },
   "source": [
    "## Imperfect Translation\n",
    "You might notice that some sentences translate better than others.  Since the dataset you're using only has a vocabulary of 227 English words of the thousands that you use, you're only going to see good results using these words.  For this project, you don't need a perfect translation. However, if you want to create a better translation model, you'll need better data.\n",
    "\n",
    "You can train on the [WMT10 French-English corpus](http://www.statmt.org/wmt10/training-giga-fren.tar).  This dataset has more vocabulary and richer in topics discussed.  However, this will take you days to train, so make sure you've a GPU and the neural network is performing well on dataset we provided.  Just make sure you play with the WMT10 corpus after you've submitted this project.\n",
    "## Submitting This Project\n",
    "When submitting this project, make sure to run all the cells before saving the notebook. Save the notebook file as \"dlnd_language_translation.ipynb\" and save it as a HTML file under \"File\" -> \"Download as\". Include the \"helper.py\" and \"problem_unittests.py\" files in your submission."
   ]
  }
 ],
 "metadata": {
  "kernelspec": {
   "display_name": "Python 3",
   "language": "python",
   "name": "python3"
  },
  "language_info": {
   "codemirror_mode": {
    "name": "ipython",
    "version": 3
   },
   "file_extension": ".py",
   "mimetype": "text/x-python",
   "name": "python",
   "nbconvert_exporter": "python",
   "pygments_lexer": "ipython3",
   "version": "3.5.3"
  }
 },
 "nbformat": 4,
 "nbformat_minor": 0
}
